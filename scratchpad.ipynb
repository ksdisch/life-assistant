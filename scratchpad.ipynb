{
 "cells": [
  {
   "cell_type": "code",
   "execution_count": 1,
   "id": "d8a22a37",
   "metadata": {},
   "outputs": [],
   "source": [
    "tasks = [\n",
    "    {\"task\": \"do laundry\", \"priority\": \"high\", \"time commitment\": \"low\"}, \n",
    "    {\"task\": \"fold laundry\", \"priority\": \"medium\", \"time commitment\": \"medium\"}, \n",
    "    ]"
   ]
  },
  {
   "cell_type": "code",
   "execution_count": 4,
   "id": "f4f7fd35",
   "metadata": {},
   "outputs": [
    {
     "name": "stdout",
     "output_type": "stream",
     "text": [
      "['task', 'priority', 'time commitment']\n"
     ]
    }
   ],
   "source": [
    "keys = [key for key in tasks[0]]\n",
    "print(keys)"
   ]
  },
  {
   "cell_type": "code",
   "execution_count": null,
   "id": "bcef3e34",
   "metadata": {},
   "outputs": [],
   "source": [
    "# I have the form\n",
    "\n",
    "# create a route for the form"
   ]
  }
 ],
 "metadata": {
  "kernelspec": {
   "display_name": "Python 3 (ipykernel)",
   "language": "python",
   "name": "python3"
  },
  "language_info": {
   "codemirror_mode": {
    "name": "ipython",
    "version": 3
   },
   "file_extension": ".py",
   "mimetype": "text/x-python",
   "name": "python",
   "nbconvert_exporter": "python",
   "pygments_lexer": "ipython3",
   "version": "3.10.5"
  }
 },
 "nbformat": 4,
 "nbformat_minor": 5
}
